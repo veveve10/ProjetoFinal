{
 "cells": [
  {
   "cell_type": "code",
   "execution_count": 1,
   "metadata": {},
   "outputs": [
    {
     "name": "stderr",
     "output_type": "stream",
     "text": [
      "C:\\Users\\hugofac.TECGRAF\\Anaconda3\\envs\\ts-gpu\\lib\\site-packages\\tensorflow\\python\\framework\\dtypes.py:516: FutureWarning: Passing (type, 1) or '1type' as a synonym of type is deprecated; in a future version of numpy, it will be understood as (type, (1,)) / '(1,)type'.\n",
      "  _np_qint8 = np.dtype([(\"qint8\", np.int8, 1)])\n",
      "C:\\Users\\hugofac.TECGRAF\\Anaconda3\\envs\\ts-gpu\\lib\\site-packages\\tensorflow\\python\\framework\\dtypes.py:517: FutureWarning: Passing (type, 1) or '1type' as a synonym of type is deprecated; in a future version of numpy, it will be understood as (type, (1,)) / '(1,)type'.\n",
      "  _np_quint8 = np.dtype([(\"quint8\", np.uint8, 1)])\n",
      "C:\\Users\\hugofac.TECGRAF\\Anaconda3\\envs\\ts-gpu\\lib\\site-packages\\tensorflow\\python\\framework\\dtypes.py:518: FutureWarning: Passing (type, 1) or '1type' as a synonym of type is deprecated; in a future version of numpy, it will be understood as (type, (1,)) / '(1,)type'.\n",
      "  _np_qint16 = np.dtype([(\"qint16\", np.int16, 1)])\n",
      "C:\\Users\\hugofac.TECGRAF\\Anaconda3\\envs\\ts-gpu\\lib\\site-packages\\tensorflow\\python\\framework\\dtypes.py:519: FutureWarning: Passing (type, 1) or '1type' as a synonym of type is deprecated; in a future version of numpy, it will be understood as (type, (1,)) / '(1,)type'.\n",
      "  _np_quint16 = np.dtype([(\"quint16\", np.uint16, 1)])\n",
      "C:\\Users\\hugofac.TECGRAF\\Anaconda3\\envs\\ts-gpu\\lib\\site-packages\\tensorflow\\python\\framework\\dtypes.py:520: FutureWarning: Passing (type, 1) or '1type' as a synonym of type is deprecated; in a future version of numpy, it will be understood as (type, (1,)) / '(1,)type'.\n",
      "  _np_qint32 = np.dtype([(\"qint32\", np.int32, 1)])\n",
      "C:\\Users\\hugofac.TECGRAF\\Anaconda3\\envs\\ts-gpu\\lib\\site-packages\\tensorflow\\python\\framework\\dtypes.py:525: FutureWarning: Passing (type, 1) or '1type' as a synonym of type is deprecated; in a future version of numpy, it will be understood as (type, (1,)) / '(1,)type'.\n",
      "  np_resource = np.dtype([(\"resource\", np.ubyte, 1)])\n",
      "C:\\Users\\hugofac.TECGRAF\\Anaconda3\\envs\\ts-gpu\\lib\\site-packages\\tensorboard\\compat\\tensorflow_stub\\dtypes.py:541: FutureWarning: Passing (type, 1) or '1type' as a synonym of type is deprecated; in a future version of numpy, it will be understood as (type, (1,)) / '(1,)type'.\n",
      "  _np_qint8 = np.dtype([(\"qint8\", np.int8, 1)])\n",
      "C:\\Users\\hugofac.TECGRAF\\Anaconda3\\envs\\ts-gpu\\lib\\site-packages\\tensorboard\\compat\\tensorflow_stub\\dtypes.py:542: FutureWarning: Passing (type, 1) or '1type' as a synonym of type is deprecated; in a future version of numpy, it will be understood as (type, (1,)) / '(1,)type'.\n",
      "  _np_quint8 = np.dtype([(\"quint8\", np.uint8, 1)])\n",
      "C:\\Users\\hugofac.TECGRAF\\Anaconda3\\envs\\ts-gpu\\lib\\site-packages\\tensorboard\\compat\\tensorflow_stub\\dtypes.py:543: FutureWarning: Passing (type, 1) or '1type' as a synonym of type is deprecated; in a future version of numpy, it will be understood as (type, (1,)) / '(1,)type'.\n",
      "  _np_qint16 = np.dtype([(\"qint16\", np.int16, 1)])\n",
      "C:\\Users\\hugofac.TECGRAF\\Anaconda3\\envs\\ts-gpu\\lib\\site-packages\\tensorboard\\compat\\tensorflow_stub\\dtypes.py:544: FutureWarning: Passing (type, 1) or '1type' as a synonym of type is deprecated; in a future version of numpy, it will be understood as (type, (1,)) / '(1,)type'.\n",
      "  _np_quint16 = np.dtype([(\"quint16\", np.uint16, 1)])\n",
      "C:\\Users\\hugofac.TECGRAF\\Anaconda3\\envs\\ts-gpu\\lib\\site-packages\\tensorboard\\compat\\tensorflow_stub\\dtypes.py:545: FutureWarning: Passing (type, 1) or '1type' as a synonym of type is deprecated; in a future version of numpy, it will be understood as (type, (1,)) / '(1,)type'.\n",
      "  _np_qint32 = np.dtype([(\"qint32\", np.int32, 1)])\n",
      "C:\\Users\\hugofac.TECGRAF\\Anaconda3\\envs\\ts-gpu\\lib\\site-packages\\tensorboard\\compat\\tensorflow_stub\\dtypes.py:550: FutureWarning: Passing (type, 1) or '1type' as a synonym of type is deprecated; in a future version of numpy, it will be understood as (type, (1,)) / '(1,)type'.\n",
      "  np_resource = np.dtype([(\"resource\", np.ubyte, 1)])\n",
      "Using TensorFlow backend.\n"
     ]
    }
   ],
   "source": [
    "from music21 import converter, instrument, note, chord, stream, corpus, environment\n",
    "import glob\n",
    "import numpy\n",
    "import tensorflow as ts\n",
    "import random\n",
    "from tensorflow import keras\n",
    "from keras.utils import np_utils\n",
    "from keras.models import Sequential\n",
    "from keras.layers import *\n",
    "from keras.callbacks import ModelCheckpoint\n",
    "import matplotlib.pyplot as plt\n",
    "\n",
    "# If GPU is an option\n",
    "if len(ts.config.experimental.list_physical_devices('GPU')) > 0:\n",
    "    print(ts.config.list_physical_devices('GPU'))\n",
    "    print(\"Num GPUs Available: \", len(ts.config.experimental.list_physical_devices('GPU')))\n",
    "    gpus = ts.config.experimental.list_physical_devices('GPU')\n",
    "    ts.config.experimental.set_memory_growth(gpus[0], True)\n",
    "    sess = ts.compat.v1.Session()\n"
   ]
  },
  {
   "cell_type": "code",
   "execution_count": 2,
   "metadata": {},
   "outputs": [],
   "source": [
    "numpy.random.seed()\n",
    "\n",
    "def getNotes(folderPath):\n",
    "    notes = []\n",
    "    print(\"Starting to read files...\")\n",
    "    for file in glob.glob(folderPath + \"/*.mid\"):\n",
    "        print(file)\n",
    "        midi = converter.parse(file)\n",
    "        print(\"file parsed\")\n",
    "        notes_to_parse = None\n",
    "        parts = instrument.partitionByInstrument(midi)\n",
    "        if parts: # file has instrument parts\n",
    "            notes_to_parse = parts.parts[0].recurse()\n",
    "        else: # file has notes in a flat structure\n",
    "            notes_to_parse = midi.flat.notes\n",
    "        for element in notes_to_parse:\n",
    "            if isinstance(element, note.Note):\n",
    "                notes.append(str(element.pitch))\n",
    "            elif isinstance(element, chord.Chord):\n",
    "                notes.append('.'.join(str(n) for n in element.normalOrder))\n",
    "    print(\"Files read\")\n",
    "    return notes"
   ]
  },
  {
   "cell_type": "code",
   "execution_count": 3,
   "metadata": {},
   "outputs": [],
   "source": [
    "# sequence_length is how many notes will be passed at once as an input\n",
    "def prepareSequences(notes, sequence_length):\n",
    "    print(\"Generating the dictionary and converting the notes to integers...\")\n",
    "\n",
    "    n_vocab = len(set(notes))\n",
    "    \n",
    "    # get all pitch names\n",
    "    pitchnames = sorted(set(item for item in notes))\n",
    "\n",
    "     # create a dictionary to map pitches to integers\n",
    "    note_to_int = dict((note, number) for number, note in enumerate(pitchnames))\n",
    "\n",
    "    network_input = []\n",
    "    network_output = []\n",
    "\n",
    "    # create input sequences and the corresponding outputs\n",
    "    for i in range(0, len(notes) - sequence_length, 1):\n",
    "        sequence_in = notes[i:i + sequence_length]\n",
    "        sequence_out = notes[i + sequence_length]\n",
    "        network_input.append([note_to_int[char] for char in sequence_in])\n",
    "        network_output.append(note_to_int[sequence_out])\n",
    "\n",
    "    n_patterns = len(network_input)\n",
    "\n",
    "    # reshape the input into a format compatible with LSTM layers\n",
    "    network_input = numpy.reshape(network_input, (n_patterns, sequence_length, 1))\n",
    "    # normalize input\n",
    "    network_input = network_input / float(n_vocab)\n",
    "\n",
    "    network_output = np_utils.to_categorical(network_output)\n",
    "\n",
    "    return network_input, network_output, pitchnames"
   ]
  },
  {
   "cell_type": "code",
   "execution_count": 4,
   "metadata": {},
   "outputs": [],
   "source": [
    "def buildLSTMModel(network_input, outputSize):\n",
    "    print(\"Building the LSTM...\")\n",
    "    model = Sequential()\n",
    "    model.add(LSTM(\n",
    "        256,\n",
    "        input_shape=(network_input.shape[1], network_input.shape[2]),\n",
    "        return_sequences=True\n",
    "    ))\n",
    "    model.add(Dropout(0.3))\n",
    "    model.add(LSTM(512, return_sequences=True))\n",
    "    model.add(Dropout(0.3))\n",
    "    model.add(LSTM(256))\n",
    "    model.add(Dense(256))\n",
    "    model.add(Dropout(0.3))\n",
    "    model.add(Dense(outputSize))\n",
    "    model.add(Activation('softmax'))\n",
    "    model.compile(loss='categorical_crossentropy', optimizer='rmsprop') \n",
    "\n",
    "    print(\"Built\")\n",
    "    return model"
   ]
  },
  {
   "cell_type": "code",
   "execution_count": 5,
   "metadata": {
    "scrolled": true
   },
   "outputs": [],
   "source": [
    "def trainModel(model, network_input, network_output, Iepochs=200, Ibatch_size = 64, callback = True):\n",
    "    if callback:\n",
    "        filepath = \"Beth&Moz-{epoch:02d}-{loss:.4f}-bigger.hdf5\"    \n",
    "        checkpoint = ModelCheckpoint(\n",
    "            filepath, monitor='loss', \n",
    "            verbose=0,        \n",
    "            save_best_only=True,        \n",
    "            mode='min'\n",
    "        )    \n",
    "        callbacks_list = [checkpoint] \n",
    "    else:\n",
    "        callbacks_list = None\n",
    "\n",
    "    model.fit(network_input, network_output, epochs=Iepochs, batch_size=Ibatch_size, callbacks=callbacks_list)\n",
    "    return model"
   ]
  },
  {
   "cell_type": "code",
   "execution_count": 6,
   "metadata": {},
   "outputs": [],
   "source": [
    "def randomPrediction(probVector):\n",
    "    PV = probVector[0]\n",
    "    randNum = random.uniform(0, 1)\n",
    "    sumVector = 0\n",
    "    for i in range(0, len(PV)):\n",
    "        sumVector += PV[i]\n",
    "        if sumVector > randNum:\n",
    "            return i\n",
    "\n",
    "def generateSong (model, notes, name, argmax = True):\n",
    "    print(\"Generating song...\")\n",
    "\n",
    "    n_vocab = len(set(notes))\n",
    "    \n",
    "    # get all pitch names\n",
    "    pitchnames = sorted(set(item for item in notes))\n",
    "    \n",
    "    start = numpy.random.randint(0, len(network_input)-1)\n",
    "    int_to_note = dict((number, note) for number, note in enumerate(pitchnames))\n",
    "    pattern = network_input[start]\n",
    "    prediction_output = []\n",
    "    # generate 500 notes\n",
    "    for note_index in range(500):\n",
    "        prediction_input = numpy.reshape(pattern, (1, len(pattern),1))\n",
    "        prediction_input = prediction_input / float(n_vocab)\n",
    "        prediction = model.predict(prediction_input, verbose=0)\n",
    "        if argmax:\n",
    "            index = numpy.argmax(prediction)\n",
    "        else:\n",
    "            index = randomPrediction(prediction)\n",
    "        result = int_to_note[index]\n",
    "        prediction_output.append(result)\n",
    "        pattern = numpy.append(pattern,index)\n",
    "        pattern = pattern[1:len(pattern)]\n",
    "\n",
    "\n",
    "\n",
    "    offset = 0\n",
    "    output_notes = []\n",
    "    # create note and chord objects based on the values generated by the model\n",
    "    for pattern in prediction_output:\n",
    "        # pattern is a chord\n",
    "        if ('.' in pattern) or pattern.isdigit():\n",
    "            notes_in_chord = pattern.split('.')\n",
    "            notes = []\n",
    "            for current_note in notes_in_chord:\n",
    "                new_note = note.Note(int(current_note))\n",
    "                new_note.storedInstrument = instrument.Piano()\n",
    "                notes.append(new_note)\n",
    "            new_chord = chord.Chord(notes)\n",
    "            new_chord.offset = offset\n",
    "            output_notes.append(new_chord)\n",
    "        # pattern is a note\n",
    "        else:\n",
    "            new_note = note.Note(pattern)\n",
    "            new_note.offset = offset\n",
    "            new_note.storedInstrument = instrument.Piano()\n",
    "            output_notes.append(new_note)\n",
    "        # increase offset each iteration so that notes do not stack\n",
    "        offset += 0.5\n",
    "\n",
    "    midi_stream = stream.Stream(output_notes)\n",
    "    midi_stream.write('midi', fp= name + '.mid')\n",
    "\n",
    "    print(\"Song finished\")"
   ]
  },
  {
   "cell_type": "code",
   "execution_count": 7,
   "metadata": {},
   "outputs": [
    {
     "name": "stdout",
     "output_type": "stream",
     "text": [
      "Starting to read files...\n",
      "midi_classic\\appass_1.mid\n",
      "file parsed\n",
      "midi_classic\\appass_2.mid\n",
      "file parsed\n",
      "midi_classic\\appass_3.mid\n",
      "file parsed\n",
      "midi_classic\\beethoven_hammerklavier_1.mid\n",
      "file parsed\n",
      "midi_classic\\beethoven_hammerklavier_2.mid\n",
      "file parsed\n",
      "midi_classic\\beethoven_hammerklavier_3.mid\n",
      "file parsed\n",
      "midi_classic\\beethoven_hammerklavier_4.mid\n",
      "file parsed\n",
      "midi_classic\\beethoven_les_adieux_1.mid\n",
      "file parsed\n",
      "midi_classic\\beethoven_les_adieux_2.mid\n",
      "file parsed\n",
      "midi_classic\\beethoven_les_adieux_3.mid\n",
      "file parsed\n",
      "midi_classic\\beethoven_opus10_1.mid\n",
      "file parsed\n",
      "midi_classic\\beethoven_opus10_2.mid\n",
      "file parsed\n",
      "midi_classic\\beethoven_opus10_3.mid\n",
      "file parsed\n",
      "midi_classic\\beethoven_opus22_1.mid\n",
      "file parsed\n",
      "midi_classic\\beethoven_opus22_2.mid\n",
      "file parsed\n",
      "midi_classic\\beethoven_opus22_3.mid\n",
      "file parsed\n",
      "midi_classic\\beethoven_opus22_4.mid\n",
      "file parsed\n",
      "midi_classic\\beethoven_opus90_1.mid\n",
      "file parsed\n",
      "midi_classic\\beethoven_opus90_2.mid\n",
      "file parsed\n",
      "midi_classic\\elise.mid\n",
      "file parsed\n",
      "midi_classic\\mond_1.mid\n",
      "file parsed\n",
      "midi_classic\\mond_2.mid\n",
      "file parsed\n",
      "midi_classic\\mond_3.mid\n",
      "file parsed\n",
      "midi_classic\\mz_311_1.mid\n",
      "file parsed\n",
      "midi_classic\\mz_311_2.mid\n",
      "file parsed\n",
      "midi_classic\\mz_311_3.mid\n",
      "file parsed\n",
      "midi_classic\\mz_330_1.mid\n",
      "file parsed\n",
      "midi_classic\\mz_330_2.mid\n",
      "file parsed\n",
      "midi_classic\\mz_330_3.mid\n",
      "file parsed\n",
      "midi_classic\\mz_331_1.mid\n",
      "file parsed\n",
      "midi_classic\\mz_331_2.mid\n",
      "file parsed\n",
      "midi_classic\\mz_331_3.mid\n",
      "file parsed\n",
      "midi_classic\\mz_332_1.mid\n",
      "file parsed\n",
      "midi_classic\\mz_332_2.mid\n",
      "file parsed\n",
      "midi_classic\\mz_332_3.mid\n",
      "file parsed\n",
      "midi_classic\\mz_333_1.mid\n",
      "file parsed\n",
      "midi_classic\\mz_333_2.mid\n",
      "file parsed\n",
      "midi_classic\\mz_333_3.mid\n",
      "file parsed\n",
      "midi_classic\\mz_545_1.mid\n",
      "file parsed\n",
      "midi_classic\\mz_545_2.mid\n",
      "file parsed\n",
      "midi_classic\\mz_545_3.mid\n",
      "file parsed\n",
      "midi_classic\\mz_570_1.mid\n",
      "file parsed\n",
      "midi_classic\\mz_570_2.mid\n",
      "file parsed\n",
      "midi_classic\\mz_570_3.mid\n",
      "file parsed\n",
      "midi_classic\\pathetique_1.mid\n",
      "file parsed\n",
      "midi_classic\\pathetique_2.mid\n",
      "file parsed\n",
      "midi_classic\\pathetique_3.mid\n",
      "file parsed\n",
      "midi_classic\\waldstein_1.mid\n",
      "file parsed\n",
      "midi_classic\\waldstein_2.mid\n",
      "file parsed\n",
      "midi_classic\\waldstein_3.mid\n",
      "file parsed\n",
      "Files read\n"
     ]
    }
   ],
   "source": [
    "notes = getNotes('midi_classic')"
   ]
  },
  {
   "cell_type": "code",
   "execution_count": 8,
   "metadata": {},
   "outputs": [
    {
     "name": "stdout",
     "output_type": "stream",
     "text": [
      "Generating the dictionary and converting the notes to integers...\n"
     ]
    }
   ],
   "source": [
    "network_input, network_output, pitchnames = prepareSequences(notes, 100)"
   ]
  },
  {
   "cell_type": "code",
   "execution_count": 9,
   "metadata": {},
   "outputs": [
    {
     "name": "stdout",
     "output_type": "stream",
     "text": [
      "Building the LSTM...\n",
      "Built\n"
     ]
    }
   ],
   "source": [
    "model = buildLSTMModel(network_input, len(set(notes)))"
   ]
  },
  {
   "cell_type": "code",
   "execution_count": 10,
   "metadata": {
    "scrolled": true
   },
   "outputs": [
    {
     "data": {
      "image/png": "[encoded data removed]",
      "text/plain": [
       "<Figure size 432x288 with 1 Axes>"
      ]
     },
     "metadata": {
      "image/png": {
       "height": 277,
       "width": 372
      },
      "needs_background": "light"
     },
     "output_type": "display_data"
    }
   ],
   "source": [
    "# model = trainModel(model, network_input, network_output, 0)\n",
    "# Loss graph over all traning, only saved the loss value when it was better\n",
    "weights = numpy.load('outfile.npy')\n",
    "\n",
    "pos = []\n",
    "val = []\n",
    "for i in range(0,len(weights)):\n",
    "    pos.append(i+1)\n",
    "    val.append(weights[i])\n",
    "\n",
    "plt.plot(pos,val)\n",
    "plt.xlabel('Approximated Epoch')\n",
    "plt.xlabel('Loss value')\n",
    "plt.title('Loss evolution over epochs')\n",
    "plt.show()"
   ]
  },
  {
   "cell_type": "code",
   "execution_count": 11,
   "metadata": {},
   "outputs": [],
   "source": [
    "model.load_weights('Weights.hdf5')"
   ]
  },
  {
   "cell_type": "code",
   "execution_count": 12,
   "metadata": {},
   "outputs": [
    {
     "name": "stdout",
     "output_type": "stream",
     "text": [
      "Generating song...\n",
      "WARNING:tensorflow:From C:\\Users\\hugofac.TECGRAF\\Anaconda3\\envs\\ts-gpu\\lib\\site-packages\\keras\\backend\\tensorflow_backend.py:422: The name tf.global_variables is deprecated. Please use tf.compat.v1.global_variables instead.\n",
      "\n",
      "Song finished\n"
     ]
    }
   ],
   "source": [
    "generateSong (model, notes, 'Result_LSTM')"
   ]
  },
  {
   "cell_type": "code",
   "execution_count": 13,
   "metadata": {},
   "outputs": [
    {
     "name": "stdout",
     "output_type": "stream",
     "text": [
      "100\n",
      "1\n"
     ]
    }
   ],
   "source": [
    "print(network_input.shape[1])\n",
    "print(network_input.shape[2])"
   ]
  }
 ],
 "metadata": {
  "kernelspec": {
   "display_name": "Python 3",
   "language": "python",
   "name": "python3"
  },
  "language_info": {
   "codemirror_mode": {
    "name": "ipython",
    "version": 3
   },
   "file_extension": ".py",
   "mimetype": "text/x-python",
   "name": "python",
   "nbconvert_exporter": "python",
   "pygments_lexer": "ipython3",
   "version": "3.7.9"
  }
 },
 "nbformat": 4,
 "nbformat_minor": 4
}
